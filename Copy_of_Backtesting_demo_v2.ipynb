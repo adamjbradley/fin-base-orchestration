{
  "nbformat": 4,
  "nbformat_minor": 0,
  "metadata": {
    "colab": {
      "provenance": [],
      "include_colab_link": true
    },
    "kernelspec": {
      "name": "python3",
      "display_name": "Python 3"
    },
    "language_info": {
      "name": "python"
    }
  },
  "cells": [
    {
      "cell_type": "markdown",
      "metadata": {
        "id": "view-in-github",
        "colab_type": "text"
      },
      "source": [
        "<a href=\"https://colab.research.google.com/github/adamjbradley/fin-base-orchestration/blob/main/Copy_of_Backtesting_demo_v2.ipynb\" target=\"_parent\"><img src=\"https://colab.research.google.com/assets/colab-badge.svg\" alt=\"Open In Colab\"/></a>"
      ]
    },
    {
      "cell_type": "markdown",
      "source": [
        "These packages need to be installed for this tutorial"
      ],
      "metadata": {
        "id": "Z60mMRsd307-"
      }
    },
    {
      "cell_type": "code",
      "execution_count": null,
      "metadata": {
        "id": "H_pTn_pWs4He"
      },
      "outputs": [],
      "source": [
        "# yfinance is to download stock data from yahoo finance, and finta is for adding technical indicators\n",
        "!pip install yfinance finta"
      ]
    },
    {
      "cell_type": "code",
      "source": [
        "from finta import TA\n",
        "import pandas as pd\n",
        "import yfinance as yf\n",
        "import glob, os\n",
        "from os import path\n",
        "\n",
        "import time\n",
        "import datetime\n",
        "import random"
      ],
      "metadata": {
        "id": "VWJS4t0j4fMp"
      },
      "execution_count": 81,
      "outputs": []
    },
    {
      "cell_type": "markdown",
      "source": [
        "Define where the user wants to store the stock price data"
      ],
      "metadata": {
        "id": "y3GImJL238EW"
      }
    },
    {
      "cell_type": "code",
      "source": [
        "#@title Load Files\n",
        "# data saved to the google colab environment will not persist\n",
        "# if you want to save data for future sessions, mount your\n",
        "# google drive and save the files there\n",
        "\n",
        "folder_root = '/content/drive/MyDrive/Personal/Finance/Trading/data/stocks/'\n",
        "\n",
        "if input('Save Stock Data to your Google Drive? (y/n)') == 'y':\n",
        "  if path.exists('/content/drive/MyDrive') == False:\n",
        "    from google.colab import drive\n",
        "    drive.mount('/content/drive')\n",
        "  folder_root = '/content/drive/MyDrive/Personal/Finance/Trading/data/stocks/'\n",
        "else:\n",
        "  folder_root = '/content/'\n",
        "\n",
        "\n",
        "folder_name = input('What folder would you like to use to save price data? (folder will be created if it does not exist)')\n",
        "\n",
        "if not folder_name or any(c in folder_name for c in r'<>:\"\\|?*'):\n",
        "  print('Invalid folder name')\n",
        "\n",
        "else:\n",
        "  folder_path = f'{folder_root}{folder_name}'\n",
        "  print('Folder Path ' + folder_path)\n",
        "\n",
        "  if path.exists(folder_path) == False:\n",
        "\n",
        "    try:\n",
        "      os.makedirs(folder_path)\n",
        "      print(f'The folder {folder_name} has been created.')\n",
        "    except OSError as e:\n",
        "      print(f'Failed to create folder {folder_name}: {e}')\n",
        "\n",
        "  else:\n",
        "    print(f'Using path {folder_path}, which already exists')\n"
      ],
      "metadata": {
        "id": "QS-sGyLy5M2q",
        "colab": {
          "base_uri": "https://localhost:8080/"
        },
        "outputId": "6f526498-9041-4da9-816e-a6d8fbef86a1",
        "cellView": "form"
      },
      "execution_count": null,
      "outputs": [
        {
          "output_type": "stream",
          "name": "stdout",
          "text": [
            "Save Stock Data to your Google Drive? (y/n)y\n",
            "Mounted at /content/drive\n",
            "What folder would you like to use to save price data? (folder will be created if it does not exist)1day/tv\n",
            "Folder Path /content/drive/MyDrive/Personal/Finance/Trading/data/stocks/1day/tv\n",
            "Using path /content/drive/MyDrive/Personal/Finance/Trading/data/stocks/1day/tv, which already exists\n"
          ]
        }
      ]
    },
    {
      "cell_type": "code",
      "source": [
        "#@title Download stock Data\n",
        "def download_stock_data(folder_location, years=10):\n",
        "\n",
        "  \"\"\"Downloads historical daily price data for stocks in the s&p 500 over specified number of years\"\"\"\n",
        "\n",
        "  symbols = pd.read_csv('https://raw.githubusercontent.com/datasets/s-and-p-500-companies/main/data/constituents.csv')['Symbol']\n",
        "\n",
        "  # remove [0:50] if you want to download all stock data\n",
        "  # (as written it will download just the first 50)\n",
        "  #for s in symbols[0:50]:\n",
        "  for s in symbols:\n",
        "    try:\n",
        "      df = yf.download([s], auto_adjust=True, period=f'{str(years)}y', )\n",
        "\n",
        "      # we need this dataframe to be long enough to test\n",
        "      if len(df) > 400:\n",
        "        df.columns = df.columns.str.lower()\n",
        "        df.index = df.index.rename('datetime')\n",
        "        df.to_csv(f'{folder_location}/{s}.csv')\n",
        "\n",
        "    except Exception as e:\n",
        "      print(f'error with {s}')\n",
        "      print(repr(e))\n",
        "      continue\n",
        "\n",
        "#download_stock_data(folder_path + \"/../../1day/yf\")\n",
        "download_stock_data(folder_path)"
      ],
      "metadata": {
        "id": "xE2nSSzkvHDs",
        "cellView": "form"
      },
      "execution_count": null,
      "outputs": []
    },
    {
      "cell_type": "code",
      "source": [
        "#@title Strategy - Basic\n",
        "def find_entries(df:pd.DataFrame) -> pd.DataFrame:\n",
        "\n",
        "  \"\"\"Finds entries for this sample strategy:\n",
        "  Buy when the 50 period EMA crosses above the 200 period EMA,\n",
        "  and the price is above the 200 period EMA.\n",
        "\n",
        "  Set a target of 3% above the entry price, and a stop 3% below the entry price\n",
        "  \"\"\"\n",
        "\n",
        "  df['EMA200'] = TA.EMA(df, period=200)\n",
        "  df['EMA50'] = TA.EMA(df, period=50)\n",
        "\n",
        "\n",
        "  # conditions for the strategy\n",
        "  c1 = df.close > df.EMA200\n",
        "  c2 = df.shift(1).EMA50 < df.shift(1).EMA200\n",
        "  c3 = df.EMA50 > df.EMA200\n",
        "\n",
        "  long_entry_condition = (c1) & (c2) & (c3)\n",
        "\n",
        "  df['buy'] = False\n",
        "  df['entry'] = df.shift(-1).open\n",
        "  df['target'] = 0.0\n",
        "  df['stop'] = 0.0\n",
        "  df['gain'] = 0.0\n",
        "  df['length'] = 0\n",
        "  # 'winner' will be set to:\n",
        "  #     0 for a losing trade\n",
        "  #     1 for a winning trade\n",
        "  #     2 for a trade that times-out\n",
        "  #     3 for a candle not traded\n",
        "  df['winner'] = 3\n",
        "\n",
        "  # lets be specific about the datatypes so pandas doesn't misinterpret:\n",
        "  df = df.astype({\n",
        "    'buy': bool,\n",
        "    'entry': float,\n",
        "    'target': float,\n",
        "    'stop': float,\n",
        "    'gain': float,\n",
        "    'length': int,\n",
        "    'winner': int\n",
        "      })\n",
        "\n",
        "  df.loc[long_entry_condition, 'buy'] = True\n",
        "  df.loc[long_entry_condition, 'stop'] = df.entry * 0.97\n",
        "  df.loc[long_entry_condition, 'target'] = df.entry * 1.03\n",
        "\n",
        "  return df"
      ],
      "metadata": {
        "id": "t8MM_kCjB9eM",
        "cellView": "form"
      },
      "execution_count": 153,
      "outputs": []
    },
    {
      "cell_type": "code",
      "source": [
        "#@title Strategy - Buy & Hold\n",
        "def find_entries(df:pd.DataFrame) -> pd.DataFrame:\n",
        "\n",
        "  \"\"\"Finds entries for this sample strategy:\n",
        "  Buy when the 50 period EMA crosses above the 200 period EMA,\n",
        "  and the price is above the 200 period EMA.\n",
        "\n",
        "  Set a target of 3% above the entry price, and a stop 3% below the entry price\n",
        "  \"\"\"\n",
        "\n",
        "  df['ATR'] = TA.ATR(df, period=1)\n",
        "\n",
        "  df['buy'] = False\n",
        "  df['entry'] = df.shift(-1).open\n",
        "  df['target'] = 0.0\n",
        "  df['stop'] = 0.0\n",
        "  df['gain'] = 0.0\n",
        "  df['length'] = 0\n",
        "  # 'winner' will be set to:\n",
        "  #     0 for a losing trade\n",
        "  #     1 for a winning trade\n",
        "  #     2 for a trade that times-out\n",
        "  #     3 for a candle not traded\n",
        "  df['winner'] = 3\n",
        "\n",
        "  # lets be specific about the datatypes so pandas doesn't misinterpret:\n",
        "  df = df.astype({\n",
        "    'buy': bool,\n",
        "    'entry': float,\n",
        "    'target': float,\n",
        "    'stop': float,\n",
        "    'gain': float,\n",
        "    'length': int,\n",
        "    'winner': int\n",
        "      })\n",
        "\n",
        "\n",
        "  df.iloc[201, df.columns.get_loc('buy')] = True\n",
        "  df.iloc[201, df.columns.get_loc('stop')] = df.iloc[201, df.columns.get_loc('entry')] - (df.columns.get_loc('ATR') * 1.6)\n",
        "  df.iloc[201, df.columns.get_loc('target')] = df.iloc[201, df.columns.get_loc('entry')] + (df.columns.get_loc('ATR') * 1.2)\n",
        "\n",
        "  #df.loc[long_entry_condition, 'stop'] = df.entry * 0.97\n",
        "  #df.loc[long_entry_condition, 'target'] = df.entry * 1.03\n",
        "\n",
        "  return df"
      ],
      "metadata": {
        "id": "3Maz2rVaUW9S",
        "cellView": "form"
      },
      "execution_count": 155,
      "outputs": []
    },
    {
      "cell_type": "code",
      "source": [
        "#@title Strategy - Random\n",
        "def find_entries(df:pd.DataFrame) -> pd.DataFrame:\n",
        "\n",
        "  \"\"\"Finds entries for this sample strategy:\n",
        "  Enter at a random bar, trust me, it's awesome\n",
        "  \"\"\"\n",
        "\n",
        "  df['ATR'] = TA.ATR(df, period=1)\n",
        "\n",
        "  df['buy'] = False\n",
        "  df['entry'] = df.shift(-1).open\n",
        "  df['target'] = 0.0\n",
        "  df['stop'] = 0.0\n",
        "  df['gain'] = 0.0\n",
        "  df['length'] = 0\n",
        "  # 'winner' will be set to:\n",
        "  #     0 for a losing trade\n",
        "  #     1 for a winning trade\n",
        "  #     2 for a trade that times-out\n",
        "  #     3 for a candle not traded\n",
        "  df['winner'] = 3\n",
        "\n",
        "  # lets be specific about the datatypes so pandas doesn't misinterpret:\n",
        "  df = df.astype({\n",
        "    'buy': bool,\n",
        "    'entry': float,\n",
        "    'target': float,\n",
        "    'stop': float,\n",
        "    'gain': float,\n",
        "    'length': int,\n",
        "    'winner': int\n",
        "      })\n",
        "\n",
        "  number_of_trades = random.randint(1, 50)\n",
        "\n",
        "  count = 0\n",
        "  while count < number_of_trades:\n",
        "    random_buy = random.randint(201, len(df)-1)\n",
        "\n",
        "    df.iloc[random_buy, df.columns.get_loc('buy')] = True\n",
        "    df.iloc[random_buy, df.columns.get_loc('stop')] = df.iloc[random_buy, df.columns.get_loc('entry')] - (df.columns.get_loc('ATR') * 1.6)\n",
        "    df.iloc[random_buy, df.columns.get_loc('target')] = df.iloc[random_buy, df.columns.get_loc('entry')] + (df.columns.get_loc('ATR') * 1.2)\n",
        "\n",
        "    #df.loc[long_entry_condition, 'stop'] = df.entry * 0.97\n",
        "    #df.loc[long_entry_condition, 'target'] = df.entry * 1.03\n",
        "\n",
        "    count = count + 1\n",
        "\n",
        "  return df"
      ],
      "metadata": {
        "cellView": "form",
        "id": "PPj6--DsXFz3"
      },
      "execution_count": 157,
      "outputs": []
    },
    {
      "cell_type": "code",
      "source": [
        "#@title Strategy - New strategy!\n",
        "\n",
        "def find_entries(df:pd.DataFrame) -> pd.DataFrame:\n",
        "\n",
        "  \"\"\"Finds entries for this sample strategy:\n",
        "  1. Red Candle with low below lower bollinger band\n",
        "  2. RSI is above 25 (red candle)\n",
        "  3. Next Candle is green, and closes above the high of the prior red candle\n",
        "  4. Bolling Bandwidth > threshold (0.3 for daily, 0.15 for 30 minute)\n",
        "  \"\"\"\n",
        "\n",
        "  #From https://snyk.io/advisor/python/finta/functions/finta.finta.TA\n",
        "  BB = TA.BBANDS(df, period=30)\n",
        "  df['BB_UPPER'] = BB[\"BB_UPPER\"]\n",
        "  df['BB_LOWER'] = BB[\"BB_LOWER\"]\n",
        "\n",
        "  df['BBW'] = TA.BBWIDTH(df, period=30)\n",
        "  df['RSI'] = TA.RSI(df, period=14)\n",
        "  df['ATR'] = TA.ATR(df, period=1)\n",
        "\n",
        "  c0 = df.close.shift(1) < df.close.shift(2)\n",
        "  c1 = df.close.shift(1) < df.shift(1).BB_LOWER\n",
        "  c2 = df.shift(1).RSI < rsi\n",
        "  c3 = df.close > df.high.shift(1)\n",
        "  c4 = df.BBW > bbw\n",
        "\n",
        "  long_entry_condition = (c0) & (c1) & (c2) & (c3) & (c4)\n",
        "\n",
        "  df['buy'] = False\n",
        "  df['entry'] = df.shift(-1).open\n",
        "  df['target'] = 0.0\n",
        "  df['stop'] = 0.0\n",
        "  df['gain'] = 0.0\n",
        "  df['length'] = 0\n",
        "  # 'winner' will be set to:\n",
        "  #     0 for a losing trade\n",
        "  #     1 for a winning trade\n",
        "  #     2 for a trade that times-out\n",
        "  #     3 for a candle not traded\n",
        "  df['winner'] = 3\n",
        "\n",
        "  # lets be specific about the datatypes so pandas doesn't misinterpret:\n",
        "  df = df.astype({\n",
        "    'buy': bool,\n",
        "    'entry': float,\n",
        "    'target': float,\n",
        "    'stop': float,\n",
        "    'gain': float,\n",
        "    'length': int,\n",
        "    'winner': int\n",
        "      })\n",
        "\n",
        "\n",
        "  df.loc[long_entry_condition, 'buy'] = True\n",
        "  df.loc[long_entry_condition, 'stop'] = df.entry - (df.ATR * stop)\n",
        "  df.loc[long_entry_condition, 'target'] = df.entry + (df.ATR * target)\n",
        "\n",
        "  return df"
      ],
      "metadata": {
        "id": "CHOvliTNmjU9"
      },
      "execution_count": 159,
      "outputs": []
    },
    {
      "cell_type": "code",
      "source": [
        "#@title Find all entries\n",
        "\n",
        "def find_all_entries(folder_path):\n",
        "  # create a list of all the csv files in our chosen folder\n",
        "  filepaths = [file for file in glob.glob(f'{folder_path}/*.csv')]\n",
        "  results_dict = {}\n",
        "\n",
        "  # for each file csv file path, get the stock symbol from the file path,\n",
        "  # and load the csv, process it to add the entries, targets, and stops,\n",
        "  # and add it to a dictionary where the symbol is the dictionary key\n",
        "\n",
        "  for p in filepaths:\n",
        "\n",
        "    df = pd.DataFrame()\n",
        "\n",
        "    try:\n",
        "      # this needs to be date, not datetime for non-yahoo sources\n",
        "      if (\"yf\" in folder_path):\n",
        "        df = pd.read_csv(p, index_col='datetime')\n",
        "      else:\n",
        "        df = pd.read_csv(p, index_col='date')\n",
        "      df = df.sort_index(ascending=True)\n",
        "\n",
        "      # we need this dataframe to be long enough to test\n",
        "      if len(df) > 400:\n",
        "        symbol = p.split('/')[-1].split('.')[0]\n",
        "        df = find_entries(df)\n",
        "        df['symbol'] = symbol\n",
        "\n",
        "        # make the index just integers rather than dates, but save the dates\n",
        "        # in another column\n",
        "        df = df.reset_index(drop=False)\n",
        "        results_dict[symbol] = df\n",
        "\n",
        "    except Exception as e:\n",
        "      print(f'Error with filepath {p}', repr(e))\n",
        "\n",
        "  print(f'Read {len(results_dict.keys())} stocks')\n",
        "  return results_dict\n",
        "\n",
        "def show_results():\n",
        "  print(f'Using {folder_path}')\n",
        "  print(f'Bollinger bandwidth {bbw}')\n",
        "  print(f'Mean gain {results_df.gain.mean()}')\n",
        "  print(f'Sum of results {results_df.gain.sum()}')\n",
        "  print(f'Number of trades {len(results_df)}')\n",
        "  print(f'Days in trades {results_df.length.sum()}')\n",
        "  print(f'Average trade length {results_df.length.sum()/len(results_df)}')\n",
        "  print(f'Percentage wins {len(results_df[results_df.gain > 0]) / len(results_df)}')\n",
        "  print(f'Percentage loss {1-(len(results_df[results_df.gain > 0]) / len(results_df))}')"
      ],
      "metadata": {
        "id": "TSCJYd1vB-Zx",
        "cellView": "form"
      },
      "execution_count": 269,
      "outputs": []
    },
    {
      "cell_type": "markdown",
      "source": [
        "Lets load just one of these price histories"
      ],
      "metadata": {
        "id": "icDNHrEx4XqP"
      }
    },
    {
      "cell_type": "code",
      "source": [
        "#@title Process single stock - price histories\n",
        "# Yahoo\n",
        "#x = results_dict['A']\n",
        "\n",
        "# Tiingo\n",
        "#x = results_dict['AAL_STOCKS_1day_3650days_ohlc_tiingo']\n",
        "#x = results_dict['ADP_STOCKS_15min_3650days_ohlc_tiingo']\n",
        "#x = results_dict['AAL_STOCKS_1hour_3650days_ohlc_tiingo']\n",
        "x = results_dict['A_STOCKS_1hour_3650days_ohlc_tiingo']\n",
        "#x = results_dict['A_STOCKS_1day_3650days_ohlc_tiingo']\n",
        "x"
      ],
      "metadata": {
        "id": "yi2k02LV22X_",
        "cellView": "form"
      },
      "execution_count": null,
      "outputs": []
    },
    {
      "cell_type": "markdown",
      "source": [
        "These are the rows that were buy signals for the strategy"
      ],
      "metadata": {
        "id": "l-TDoqaZ4eTW"
      }
    },
    {
      "cell_type": "code",
      "source": [
        "#@title Process single stock - indices\n",
        "buy_indices = x[x.buy==True].index.tolist()\n",
        "buy_indices"
      ],
      "metadata": {
        "id": "GORFMNfcjjFi",
        "colab": {
          "base_uri": "https://localhost:8080/"
        },
        "outputId": "43208493-90ea-4495-9050-5dd1e378ad10",
        "cellView": "form"
      },
      "execution_count": null,
      "outputs": [
        {
          "output_type": "execute_result",
          "data": {
            "text/plain": [
              "[]"
            ]
          },
          "metadata": {},
          "execution_count": 28
        }
      ]
    },
    {
      "cell_type": "markdown",
      "source": [
        "This code will run the trading simulation on this one stock"
      ],
      "metadata": {
        "id": "9q3xU3Xk4o9i"
      }
    },
    {
      "cell_type": "code",
      "source": [
        "#@title Process single stock - backtest\n",
        "\n",
        "# we want to set a maximum trading length so all trades\n",
        "# get equal treatment whether they are at the beginning\n",
        "# of the dataframe or near the end.  The maximum number\n",
        "# of candles to let the trade go is completely up to you\n",
        "\n",
        "max_trade_length = 50\n",
        "\n",
        "# we also have to set a minimum row number to accept\n",
        "# as a valid trade... since we use a 200 period moving\n",
        "# average, we can't use any buy signal that is before\n",
        "# row 200\n",
        "min_starting_index = 200\n",
        "\n",
        "for i in buy_indices:\n",
        "\n",
        "  # if the buy signal is too close to the end of price data,\n",
        "  # or before minimum starting index, then skip it\n",
        "  if (i > len(x) - max_trade_length - 1) | (i < min_starting_index):\n",
        "    x.loc[i, 'buy'] = False\n",
        "    continue\n",
        "\n",
        "\n",
        "  i = int(i)\n",
        "  trading_slice = x.iloc[i+1:i+max_trade_length].copy()\n",
        "  target_price = x.iloc[i].target\n",
        "  stop_price = x.iloc[i].stop\n",
        "  entry_price = x.iloc[i].entry\n",
        "  winning_indices = trading_slice[trading_slice.high > target_price].index.tolist()\n",
        "  losing_indices = trading_slice[trading_slice.low < stop_price].index.tolist()\n",
        "\n",
        "  # find the first occurance of hitting profit target or stop, if any\n",
        "  if len(winning_indices) > 0:\n",
        "    winning_index = winning_indices[0]\n",
        "\n",
        "  if len(losing_indices) > 0:\n",
        "    losing_index = losing_indices[0]\n",
        "\n",
        "\n",
        "  # find out if profit target or stop loss was hit first:\n",
        "  if len(winning_indices) > 0:\n",
        "    x.loc[i, 'winner'] = 1\n",
        "    x.loc[i, 'length'] = winning_index - i\n",
        "\n",
        "    # the winning sell price might be the target price,\n",
        "    # but if the candle opens higher than the target, it would\n",
        "    # sell at that higher price\n",
        "    sell_price = max(x.iloc[winning_index].open, target_price)\n",
        "\n",
        "    x.loc[i, 'gain'] = (sell_price / entry_price) - 1\n",
        "\n",
        "    if len(losing_indices) > 0 :\n",
        "      if losing_index <= winning_index:\n",
        "        x.loc[i, 'winner'] = 0\n",
        "        x.loc[i, 'length'] = losing_index - i\n",
        "\n",
        "        # the losing sell price might be the stop price,\n",
        "        # but if the candle opens lower than the stop, it would\n",
        "        # sell at that lower opening price\n",
        "        sell_price = min(x.iloc[losing_index].open, stop_price)\n",
        "        x.loc[i, 'gain'] = (sell_price / entry_price) - 1\n",
        "\n",
        "  elif len(losing_indices) > 0:\n",
        "    x.loc[i, 'winner'] = 0\n",
        "    x.loc[i, 'length'] = losing_index - i\n",
        "    sell_price = min(x.iloc[losing_index].open, stop_price)\n",
        "    x.loc[i, 'gain'] = (sell_price / entry_price) - 1\n",
        "\n",
        "\n",
        "  # if price doesn't hit stop or target within the maximum\n",
        "  # allowed trading time, then sell at the close of final candle\n",
        "  if (len(winning_indices) == 0) & (len(losing_indices) == 0):\n",
        "    x.loc[i, 'length'] = max_trade_length\n",
        "    x.loc[i, 'winner'] = 2\n",
        "    x.loc[i, 'gain'] = (trading_slice.iloc[-1]['close'] / entry_price) - 1\n"
      ],
      "metadata": {
        "id": "oVXT-J6kB-nr",
        "cellView": "form"
      },
      "execution_count": null,
      "outputs": []
    },
    {
      "cell_type": "markdown",
      "source": [
        "Here's a list of the trades that were calculated for this stock"
      ],
      "metadata": {
        "id": "4ydd3BBU5U6-"
      }
    },
    {
      "cell_type": "code",
      "source": [
        "#@title Process single - buy signals\n",
        "stockx[x.buy ==True]\n",
        "x[x.buy ==True].gain.mean()"
      ],
      "metadata": {
        "id": "_L51DvlPB-p7",
        "cellView": "form"
      },
      "execution_count": null,
      "outputs": []
    },
    {
      "cell_type": "markdown",
      "source": [
        "Now we can take the code used to calculate the trades for one stock, and loop it over all the stocks, saving all the trades in a master dataframe called results_df"
      ],
      "metadata": {
        "id": "N7L-6Vde5stW"
      }
    },
    {
      "cell_type": "code",
      "source": [
        "#@title !!! Backtest - Process all stocks - update buy signals and run backtest\n",
        "\n",
        "def run_backtest(get_results, results_dict, folder_path):\n",
        "  results_df = pd.DataFrame()\n",
        "\n",
        "  if (get_results is True):\n",
        "    print(f\"Retrieving results_dict from {folder_path}\")\n",
        "    results_dict = find_all_entries(folder_path)\n",
        "\n",
        "  for key in results_dict.keys():\n",
        "\n",
        "    x = results_dict[key]\n",
        "\n",
        "    buy_indices = x[x.buy==True].index.tolist()\n",
        "\n",
        "    for i in buy_indices:\n",
        "\n",
        "      # if the buy signal is too close to the end of price data,\n",
        "      # or before minimum starting index, then skip it\n",
        "      if (i > len(x) - max_trade_length - 1) | (i < min_starting_index):\n",
        "        x.loc[i, 'buy'] = False\n",
        "        continue\n",
        "\n",
        "      trading_slice = x.iloc[i+1:i+max_trade_length].copy()\n",
        "      target_price = x.iloc[i].target\n",
        "      stop_price = x.iloc[i].stop\n",
        "      entry_price = x.iloc[i].entry\n",
        "\n",
        "      units = int(trade_size / entry_price)\n",
        "\n",
        "      winning_indices = trading_slice[trading_slice.high > target_price].index.tolist()\n",
        "      losing_indices = trading_slice[trading_slice.low < stop_price].index.tolist()\n",
        "\n",
        "      # find the first occurance of hitting profit target or stop, if any\n",
        "      if len(winning_indices) > 0:\n",
        "        winning_index = winning_indices[0]\n",
        "\n",
        "      if len(losing_indices) > 0:\n",
        "        losing_index = losing_indices[0]\n",
        "\n",
        "      # find out if profit target or stop loss was hit first:\n",
        "      if len(winning_indices) > 0:\n",
        "        x.loc[i, 'winner'] = 1\n",
        "        x.loc[i, 'length'] = winning_index - i\n",
        "\n",
        "        # the winning sell price might be the target price,\n",
        "        # but if the candle opens higher than the target, it would\n",
        "        # sell at that higher price\n",
        "        sell_price = max(x['open'].iloc[winning_index], target_price)\n",
        "\n",
        "        #x.loc[i, 'gain'] = (sell_price / entry_price) - 1\n",
        "        x.loc[i, 'gain'] = (sell_price - entry_price) * units\n",
        "\n",
        "        if len(losing_indices) > 0 :\n",
        "          if losing_index <= winning_index:\n",
        "            x.loc[i, 'winner'] = 0\n",
        "            x.loc[i, 'length'] = losing_index - i\n",
        "\n",
        "            # the losing sell price might be the stop price,\n",
        "            # but if the candle opens lower than the stop, it would\n",
        "            # sell at that lower opening price\n",
        "            sell_price = min(x['open'].iloc[losing_index], stop_price)\n",
        "            #x.loc[i, 'gain'] = (sell_price / entry_price) - 1\n",
        "            x.loc[i, 'gain'] = (sell_price - entry_price) * units\n",
        "\n",
        "      elif len(losing_indices) > 0:\n",
        "        x.loc[i, 'winner'] = 0\n",
        "        x.loc[i, 'length'] = losing_index - i\n",
        "        sell_price = min(x['open'].iloc[losing_index], stop_price)\n",
        "        #x.loc[i, 'gain'] = (sell_price / entry_price) - 1\n",
        "        x.loc[i, 'gain'] = (sell_price - entry_price) * units\n",
        "\n",
        "\n",
        "      # if price doesn't hit stop or target within the maximum\n",
        "      # allowed trading time, then sell at the close of final candle\n",
        "      if (len(winning_indices) == 0) & (len(losing_indices) == 0):\n",
        "        x.loc[i, 'length'] = max_trade_length\n",
        "\n",
        "        if (trading_slice.iloc[-1]['close'] - entry_price > 0):\n",
        "          x.loc[i, 'winner'] = 1\n",
        "        else:\n",
        "          x.loc[i, 'winner'] = 0\n",
        "\n",
        "        #x.loc[i, 'gain'] = (trading_slice.iloc[-1]['close'] / entry_price) - 1\n",
        "        x.loc[i, 'gain'] = (trading_slice.iloc[-1]['close'] - entry_price) * units\n",
        "\n",
        "\n",
        "    # take the trades and add them to our results dataframe\n",
        "    results_df = pd.concat([results_df, x[x.buy==True]], ignore_index=True)\n",
        "\n",
        "  return results_df"
      ],
      "metadata": {
        "id": "7tXN-htE9cJQ",
        "cellView": "form"
      },
      "execution_count": 270,
      "outputs": []
    },
    {
      "cell_type": "code",
      "source": [
        "max_trade_length = 20\n",
        "min_starting_index = 1\n",
        "bbw = 0.30\n",
        "rsi = 25\n",
        "stop = 1.6\n",
        "target = 1.2\n",
        "trade_size = 1000\n",
        "\n",
        "#folder_path = f'{folder_root}1day/tv-2years'\n",
        "#folder_path = f'{folder_root}1day/tv-10years'\n",
        "#folder_path = f'{folder_root}1day/yf'\n",
        "#folder_path = f'{folder_root}1day/yf-5years'\n",
        "#folder_path = f'{folder_root}1day/s-and-p-500-2years'\n",
        "#folder_path = f'{folder_root}1day/s-and-p-500-10years'\n",
        "#folder_path = f'{folder_root}1day/russell-2000-2years'\n",
        "folder_path = f'{folder_root}1day/russell-3000'\n",
        "\n",
        "#folder_path = f'{folder_root}30min/tv-10years'\n",
        "#folder_path = f'{folder_root}30min/russell-2000-2years'\n",
        "#folder_path = f'{folder_root}30min/s-and-p-500-2years'\n",
        "\n",
        "#folder_path = f'{folder_root}1hour/tv'\n",
        "\n",
        "\n",
        "results_df = run_backtest(True, None, folder_path)\n",
        "show_results()"
      ],
      "metadata": {
        "colab": {
          "base_uri": "https://localhost:8080/"
        },
        "id": "vwWHTkJ9tkep",
        "outputId": "0f7d9dc7-89b3-4020-ee82-98610c68358a"
      },
      "execution_count": 311,
      "outputs": [
        {
          "output_type": "stream",
          "name": "stdout",
          "text": [
            "Retrieving results_dict from /content/drive/MyDrive/Personal/Finance/Trading/data/stocks/1day/russell-3000\n",
            "Read 2631 stocks\n",
            "Using /content/drive/MyDrive/Personal/Finance/Trading/data/stocks/1day/russell-3000\n",
            "Bollinger bandwidth 0.3\n",
            "Mean gain 22.854412957198438\n",
            "Sum of results 35241.50477999999\n",
            "Number of trades 1542\n",
            "Days in trades 15034\n",
            "Average trade length 9.749675745784694\n",
            "Percentage wins 0.569390402075227\n",
            "Percentage loss 0.43060959792477305\n"
          ]
        }
      ]
    },
    {
      "cell_type": "code",
      "source": [
        "results_df[results_df['gain'] > 0].length.hist()"
      ],
      "metadata": {
        "colab": {
          "base_uri": "https://localhost:8080/",
          "height": 448
        },
        "id": "bLsO5UH1UAmN",
        "outputId": "a785945a-415f-43ab-be46-4e33feb531a3"
      },
      "execution_count": 292,
      "outputs": [
        {
          "output_type": "execute_result",
          "data": {
            "text/plain": [
              "<Axes: >"
            ]
          },
          "metadata": {},
          "execution_count": 292
        },
        {
          "output_type": "display_data",
          "data": {
            "text/plain": [
              "<Figure size 640x480 with 1 Axes>"
            ],
            "image/png": "[encoded data removed]"
          },
          "metadata": {}
        }
      ]
    },
    {
      "cell_type": "code",
      "source": [
        "results_df.gain.hist()"
      ],
      "metadata": {
        "colab": {
          "base_uri": "https://localhost:8080/",
          "height": 447
        },
        "id": "tTgGIvkXghHQ",
        "outputId": "81168160-1597-45b9-cbe8-5925238f987c"
      },
      "execution_count": 297,
      "outputs": [
        {
          "output_type": "execute_result",
          "data": {
            "text/plain": [
              "<Axes: >"
            ]
          },
          "metadata": {},
          "execution_count": 297
        },
        {
          "output_type": "display_data",
          "data": {
            "text/plain": [
              "<Figure size 640x480 with 1 Axes>"
            ],
            "image/png": "[encoded data removed]"
          },
          "metadata": {}
        }
      ]
    },
    {
      "cell_type": "code",
      "source": [
        "results_df[results_df.length < 3].gain.mean()"
      ],
      "metadata": {
        "colab": {
          "base_uri": "https://localhost:8080/"
        },
        "id": "98fUl9aUlv82",
        "outputId": "1add3362-d927-42f4-9f4e-b21156d90bbe"
      },
      "execution_count": 303,
      "outputs": [
        {
          "output_type": "execute_result",
          "data": {
            "text/plain": [
              "167.9177175"
            ]
          },
          "metadata": {},
          "execution_count": 303
        }
      ]
    },
    {
      "cell_type": "markdown",
      "source": [
        "And here's all the trades we simulated"
      ],
      "metadata": {
        "id": "brZEyGf36TW7"
      }
    },
    {
      "cell_type": "code",
      "source": [
        "#@title Show all trades\n",
        "# Use this for Yahoo downloads\n",
        "#results_df[['datetime', 'symbol', 'buy', 'entry', 'target', 'stop', 'gain', 'length', 'winner']]\n",
        "# Use this for tiingo downloads\n",
        "results_df[['date', 'symbol', 'buy', 'entry', 'target', 'stop', 'gain', 'length', 'winner']]"
      ],
      "metadata": {
        "id": "cuEE2DBypRUS",
        "colab": {
          "base_uri": "https://localhost:8080/",
          "height": 359
        },
        "outputId": "8dff7c98-fd2f-4920-e524-8c76eb1a0b0d"
      },
      "execution_count": 283,
      "outputs": [
        {
          "output_type": "execute_result",
          "data": {
            "text/plain": [
              "                           date                                symbol   buy  \\\n",
              "0     2022-05-23 00:00:00+00:00  COST_STOCKS_1day_730days_ohlc_tiingo  True   \n",
              "1     2022-02-09 00:00:00+00:00  META_STOCKS_1day_730days_ohlc_tiingo  True   \n",
              "2     2022-11-04 00:00:00+00:00  META_STOCKS_1day_730days_ohlc_tiingo  True   \n",
              "3     2023-08-21 00:00:00+00:00  TSLA_STOCKS_1day_730days_ohlc_tiingo  True   \n",
              "4     2023-03-21 00:00:00+00:00   WFC_STOCKS_1day_730days_ohlc_tiingo  True   \n",
              "...                         ...                                   ...   ...   \n",
              "1580  2023-10-30 00:00:00+00:00  CARA_STOCKS_1day_730days_ohlc_tiingo  True   \n",
              "1581  2022-02-24 00:00:00+00:00  NRDS_STOCKS_1day_730days_ohlc_tiingo  True   \n",
              "1582  2022-05-12 00:00:00+00:00  NRDS_STOCKS_1day_730days_ohlc_tiingo  True   \n",
              "1583  2022-07-01 00:00:00+00:00  NRDS_STOCKS_1day_730days_ohlc_tiingo  True   \n",
              "1584  2022-05-02 00:00:00+00:00  FARO_STOCKS_1day_730days_ohlc_tiingo  True   \n",
              "\n",
              "        entry     target       stop       gain  length  winner  \n",
              "0     424.800  446.51200  400.37400   48.60000       3       1  \n",
              "1     228.270  249.37400  204.52800 -103.72000       8       0  \n",
              "2      94.780  100.06000   88.84000   69.40000       3       1  \n",
              "3     240.250  266.88088  210.29026   19.04000      10       1  \n",
              "4      38.705   41.07300   36.04100  -67.62500       3       0  \n",
              "...       ...        ...        ...        ...     ...     ...  \n",
              "1580    1.150    1.42200    0.84400  -86.90000      10       0  \n",
              "1581   11.360   14.49600    7.83200    0.88000      10       1  \n",
              "1582    8.820   11.04400    6.31800  133.34000      10       1  \n",
              "1583    8.160    9.06208    7.14516  110.05376       2       1  \n",
              "1584   36.570   39.40200   33.38400  -86.02200       4       0  \n",
              "\n",
              "[1585 rows x 9 columns]"
            ],
            "text/html": [
              "\n",
              "  <div id=\"df-449f2654-bae9-4742-b5df-d8e78755daa0\" class=\"colab-df-container\">\n",
              "    <div>\n",
              "<style scoped>\n",
              "    .dataframe tbody tr th:only-of-type {\n",
              "        vertical-align: middle;\n",
              "    }\n",
              "\n",
              "    .dataframe tbody tr th {\n",
              "        vertical-align: top;\n",
              "    }\n",
              "\n",
              "    .dataframe thead th {\n",
              "        text-align: right;\n",
              "    }\n",
              "</style>\n",
              "<table border=\"1\" class=\"dataframe\">\n",
              "  <thead>\n",
              "    <tr style=\"text-align: right;\">\n",
              "      <th></th>\n",
              "      <th>date</th>\n",
              "      <th>symbol</th>\n",
              "      <th>buy</th>\n",
              "      <th>entry</th>\n",
              "      <th>target</th>\n",
              "      <th>stop</th>\n",
              "      <th>gain</th>\n",
              "      <th>length</th>\n",
              "      <th>winner</th>\n",
              "    </tr>\n",
              "  </thead>\n",
              "  <tbody>\n",
              "    <tr>\n",
              "      <th>0</th>\n",
              "      <td>2022-05-23 00:00:00+00:00</td>\n",
              "      <td>COST_STOCKS_1day_730days_ohlc_tiingo</td>\n",
              "      <td>True</td>\n",
              "      <td>424.800</td>\n",
              "      <td>446.51200</td>\n",
              "      <td>400.37400</td>\n",
              "      <td>48.60000</td>\n",
              "      <td>3</td>\n",
              "      <td>1</td>\n",
              "    </tr>\n",
              "    <tr>\n",
              "      <th>1</th>\n",
              "      <td>2022-02-09 00:00:00+00:00</td>\n",
              "      <td>META_STOCKS_1day_730days_ohlc_tiingo</td>\n",
              "      <td>True</td>\n",
              "      <td>228.270</td>\n",
              "      <td>249.37400</td>\n",
              "      <td>204.52800</td>\n",
              "      <td>-103.72000</td>\n",
              "      <td>8</td>\n",
              "      <td>0</td>\n",
              "    </tr>\n",
              "    <tr>\n",
              "      <th>2</th>\n",
              "      <td>2022-11-04 00:00:00+00:00</td>\n",
              "      <td>META_STOCKS_1day_730days_ohlc_tiingo</td>\n",
              "      <td>True</td>\n",
              "      <td>94.780</td>\n",
              "      <td>100.06000</td>\n",
              "      <td>88.84000</td>\n",
              "      <td>69.40000</td>\n",
              "      <td>3</td>\n",
              "      <td>1</td>\n",
              "    </tr>\n",
              "    <tr>\n",
              "      <th>3</th>\n",
              "      <td>2023-08-21 00:00:00+00:00</td>\n",
              "      <td>TSLA_STOCKS_1day_730days_ohlc_tiingo</td>\n",
              "      <td>True</td>\n",
              "      <td>240.250</td>\n",
              "      <td>266.88088</td>\n",
              "      <td>210.29026</td>\n",
              "      <td>19.04000</td>\n",
              "      <td>10</td>\n",
              "      <td>1</td>\n",
              "    </tr>\n",
              "    <tr>\n",
              "      <th>4</th>\n",
              "      <td>2023-03-21 00:00:00+00:00</td>\n",
              "      <td>WFC_STOCKS_1day_730days_ohlc_tiingo</td>\n",
              "      <td>True</td>\n",
              "      <td>38.705</td>\n",
              "      <td>41.07300</td>\n",
              "      <td>36.04100</td>\n",
              "      <td>-67.62500</td>\n",
              "      <td>3</td>\n",
              "      <td>0</td>\n",
              "    </tr>\n",
              "    <tr>\n",
              "      <th>...</th>\n",
              "      <td>...</td>\n",
              "      <td>...</td>\n",
              "      <td>...</td>\n",
              "      <td>...</td>\n",
              "      <td>...</td>\n",
              "      <td>...</td>\n",
              "      <td>...</td>\n",
              "      <td>...</td>\n",
              "      <td>...</td>\n",
              "    </tr>\n",
              "    <tr>\n",
              "      <th>1580</th>\n",
              "      <td>2023-10-30 00:00:00+00:00</td>\n",
              "      <td>CARA_STOCKS_1day_730days_ohlc_tiingo</td>\n",
              "      <td>True</td>\n",
              "      <td>1.150</td>\n",
              "      <td>1.42200</td>\n",
              "      <td>0.84400</td>\n",
              "      <td>-86.90000</td>\n",
              "      <td>10</td>\n",
              "      <td>0</td>\n",
              "    </tr>\n",
              "    <tr>\n",
              "      <th>1581</th>\n",
              "      <td>2022-02-24 00:00:00+00:00</td>\n",
              "      <td>NRDS_STOCKS_1day_730days_ohlc_tiingo</td>\n",
              "      <td>True</td>\n",
              "      <td>11.360</td>\n",
              "      <td>14.49600</td>\n",
              "      <td>7.83200</td>\n",
              "      <td>0.88000</td>\n",
              "      <td>10</td>\n",
              "      <td>1</td>\n",
              "    </tr>\n",
              "    <tr>\n",
              "      <th>1582</th>\n",
              "      <td>2022-05-12 00:00:00+00:00</td>\n",
              "      <td>NRDS_STOCKS_1day_730days_ohlc_tiingo</td>\n",
              "      <td>True</td>\n",
              "      <td>8.820</td>\n",
              "      <td>11.04400</td>\n",
              "      <td>6.31800</td>\n",
              "      <td>133.34000</td>\n",
              "      <td>10</td>\n",
              "      <td>1</td>\n",
              "    </tr>\n",
              "    <tr>\n",
              "      <th>1583</th>\n",
              "      <td>2022-07-01 00:00:00+00:00</td>\n",
              "      <td>NRDS_STOCKS_1day_730days_ohlc_tiingo</td>\n",
              "      <td>True</td>\n",
              "      <td>8.160</td>\n",
              "      <td>9.06208</td>\n",
              "      <td>7.14516</td>\n",
              "      <td>110.05376</td>\n",
              "      <td>2</td>\n",
              "      <td>1</td>\n",
              "    </tr>\n",
              "    <tr>\n",
              "      <th>1584</th>\n",
              "      <td>2022-05-02 00:00:00+00:00</td>\n",
              "      <td>FARO_STOCKS_1day_730days_ohlc_tiingo</td>\n",
              "      <td>True</td>\n",
              "      <td>36.570</td>\n",
              "      <td>39.40200</td>\n",
              "      <td>33.38400</td>\n",
              "      <td>-86.02200</td>\n",
              "      <td>4</td>\n",
              "      <td>0</td>\n",
              "    </tr>\n",
              "  </tbody>\n",
              "</table>\n",
              "<p>1585 rows × 9 columns</p>\n",
              "</div>\n",
              "    <div class=\"colab-df-buttons\">\n",
              "\n",
              "  <div class=\"colab-df-container\">\n",
              "    <button class=\"colab-df-convert\" onclick=\"convertToInteractive('df-449f2654-bae9-4742-b5df-d8e78755daa0')\"\n",
              "            title=\"Convert this dataframe to an interactive table.\"\n",
              "            style=\"display:none;\">\n",
              "\n",
              "  <svg xmlns=\"http://www.w3.org/2000/svg\" height=\"24px\" viewBox=\"0 -960 960 960\">\n",
              "    <path d=\"M120-120v-720h720v720H120Zm60-500h600v-160H180v160Zm220 220h160v-160H400v160Zm0 220h160v-160H400v160ZM180-400h160v-160H180v160Zm440 0h160v-160H620v160ZM180-180h160v-160H180v160Zm440 0h160v-160H620v160Z\"/>\n",
              "  </svg>\n",
              "    </button>\n",
              "\n",
              "  <style>\n",
              "    .colab-df-container {\n",
              "      display:flex;\n",
              "      gap: 12px;\n",
              "    }\n",
              "\n",
              "    .colab-df-convert {\n",
              "      background-color: #E8F0FE;\n",
              "      border: none;\n",
              "      border-radius: 50%;\n",
              "      cursor: pointer;\n",
              "      display: none;\n",
              "      fill: #1967D2;\n",
              "      height: 32px;\n",
              "      padding: 0 0 0 0;\n",
              "      width: 32px;\n",
              "    }\n",
              "\n",
              "    .colab-df-convert:hover {\n",
              "      background-color: #E2EBFA;\n",
              "      box-shadow: 0px 1px 2px rgba(60, 64, 67, 0.3), 0px 1px 3px 1px rgba(60, 64, 67, 0.15);\n",
              "      fill: #174EA6;\n",
              "    }\n",
              "\n",
              "    .colab-df-buttons div {\n",
              "      margin-bottom: 4px;\n",
              "    }\n",
              "\n",
              "    [theme=dark] .colab-df-convert {\n",
              "      background-color: #3B4455;\n",
              "      fill: #D2E3FC;\n",
              "    }\n",
              "\n",
              "    [theme=dark] .colab-df-convert:hover {\n",
              "      background-color: #434B5C;\n",
              "      box-shadow: 0px 1px 3px 1px rgba(0, 0, 0, 0.15);\n",
              "      filter: drop-shadow(0px 1px 2px rgba(0, 0, 0, 0.3));\n",
              "      fill: #FFFFFF;\n",
              "    }\n",
              "  </style>\n",
              "\n",
              "    <script>\n",
              "      const buttonEl =\n",
              "        document.querySelector('#df-449f2654-bae9-4742-b5df-d8e78755daa0 button.colab-df-convert');\n",
              "      buttonEl.style.display =\n",
              "        google.colab.kernel.accessAllowed ? 'block' : 'none';\n",
              "\n",
              "      async function convertToInteractive(key) {\n",
              "        const element = document.querySelector('#df-449f2654-bae9-4742-b5df-d8e78755daa0');\n",
              "        const dataTable =\n",
              "          await google.colab.kernel.invokeFunction('convertToInteractive',\n",
              "                                                    [key], {});\n",
              "        if (!dataTable) return;\n",
              "\n",
              "        const docLinkHtml = 'Like what you see? Visit the ' +\n",
              "          '<a target=\"_blank\" href=https://colab.research.google.com/notebooks/data_table.ipynb>data table notebook</a>'\n",
              "          + ' to learn more about interactive tables.';\n",
              "        element.innerHTML = '';\n",
              "        dataTable['output_type'] = 'display_data';\n",
              "        await google.colab.output.renderOutput(dataTable, element);\n",
              "        const docLink = document.createElement('div');\n",
              "        docLink.innerHTML = docLinkHtml;\n",
              "        element.appendChild(docLink);\n",
              "      }\n",
              "    </script>\n",
              "  </div>\n",
              "\n",
              "\n",
              "<div id=\"df-fa192881-55fb-455d-be69-ed41430901e5\">\n",
              "  <button class=\"colab-df-quickchart\" onclick=\"quickchart('df-fa192881-55fb-455d-be69-ed41430901e5')\"\n",
              "            title=\"Suggest charts\"\n",
              "            style=\"display:none;\">\n",
              "\n",
              "<svg xmlns=\"http://www.w3.org/2000/svg\" height=\"24px\"viewBox=\"0 0 24 24\"\n",
              "     width=\"24px\">\n",
              "    <g>\n",
              "        <path d=\"M19 3H5c-1.1 0-2 .9-2 2v14c0 1.1.9 2 2 2h14c1.1 0 2-.9 2-2V5c0-1.1-.9-2-2-2zM9 17H7v-7h2v7zm4 0h-2V7h2v10zm4 0h-2v-4h2v4z\"/>\n",
              "    </g>\n",
              "</svg>\n",
              "  </button>\n",
              "\n",
              "<style>\n",
              "  .colab-df-quickchart {\n",
              "      --bg-color: #E8F0FE;\n",
              "      --fill-color: #1967D2;\n",
              "      --hover-bg-color: #E2EBFA;\n",
              "      --hover-fill-color: #174EA6;\n",
              "      --disabled-fill-color: #AAA;\n",
              "      --disabled-bg-color: #DDD;\n",
              "  }\n",
              "\n",
              "  [theme=dark] .colab-df-quickchart {\n",
              "      --bg-color: #3B4455;\n",
              "      --fill-color: #D2E3FC;\n",
              "      --hover-bg-color: #434B5C;\n",
              "      --hover-fill-color: #FFFFFF;\n",
              "      --disabled-bg-color: #3B4455;\n",
              "      --disabled-fill-color: #666;\n",
              "  }\n",
              "\n",
              "  .colab-df-quickchart {\n",
              "    background-color: var(--bg-color);\n",
              "    border: none;\n",
              "    border-radius: 50%;\n",
              "    cursor: pointer;\n",
              "    display: none;\n",
              "    fill: var(--fill-color);\n",
              "    height: 32px;\n",
              "    padding: 0;\n",
              "    width: 32px;\n",
              "  }\n",
              "\n",
              "  .colab-df-quickchart:hover {\n",
              "    background-color: var(--hover-bg-color);\n",
              "    box-shadow: 0 1px 2px rgba(60, 64, 67, 0.3), 0 1px 3px 1px rgba(60, 64, 67, 0.15);\n",
              "    fill: var(--button-hover-fill-color);\n",
              "  }\n",
              "\n",
              "  .colab-df-quickchart-complete:disabled,\n",
              "  .colab-df-quickchart-complete:disabled:hover {\n",
              "    background-color: var(--disabled-bg-color);\n",
              "    fill: var(--disabled-fill-color);\n",
              "    box-shadow: none;\n",
              "  }\n",
              "\n",
              "  .colab-df-spinner {\n",
              "    border: 2px solid var(--fill-color);\n",
              "    border-color: transparent;\n",
              "    border-bottom-color: var(--fill-color);\n",
              "    animation:\n",
              "      spin 1s steps(1) infinite;\n",
              "  }\n",
              "\n",
              "  @keyframes spin {\n",
              "    0% {\n",
              "      border-color: transparent;\n",
              "      border-bottom-color: var(--fill-color);\n",
              "      border-left-color: var(--fill-color);\n",
              "    }\n",
              "    20% {\n",
              "      border-color: transparent;\n",
              "      border-left-color: var(--fill-color);\n",
              "      border-top-color: var(--fill-color);\n",
              "    }\n",
              "    30% {\n",
              "      border-color: transparent;\n",
              "      border-left-color: var(--fill-color);\n",
              "      border-top-color: var(--fill-color);\n",
              "      border-right-color: var(--fill-color);\n",
              "    }\n",
              "    40% {\n",
              "      border-color: transparent;\n",
              "      border-right-color: var(--fill-color);\n",
              "      border-top-color: var(--fill-color);\n",
              "    }\n",
              "    60% {\n",
              "      border-color: transparent;\n",
              "      border-right-color: var(--fill-color);\n",
              "    }\n",
              "    80% {\n",
              "      border-color: transparent;\n",
              "      border-right-color: var(--fill-color);\n",
              "      border-bottom-color: var(--fill-color);\n",
              "    }\n",
              "    90% {\n",
              "      border-color: transparent;\n",
              "      border-bottom-color: var(--fill-color);\n",
              "    }\n",
              "  }\n",
              "</style>\n",
              "\n",
              "  <script>\n",
              "    async function quickchart(key) {\n",
              "      const quickchartButtonEl =\n",
              "        document.querySelector('#' + key + ' button');\n",
              "      quickchartButtonEl.disabled = true;  // To prevent multiple clicks.\n",
              "      quickchartButtonEl.classList.add('colab-df-spinner');\n",
              "      try {\n",
              "        const charts = await google.colab.kernel.invokeFunction(\n",
              "            'suggestCharts', [key], {});\n",
              "      } catch (error) {\n",
              "        console.error('Error during call to suggestCharts:', error);\n",
              "      }\n",
              "      quickchartButtonEl.classList.remove('colab-df-spinner');\n",
              "      quickchartButtonEl.classList.add('colab-df-quickchart-complete');\n",
              "    }\n",
              "    (() => {\n",
              "      let quickchartButtonEl =\n",
              "        document.querySelector('#df-fa192881-55fb-455d-be69-ed41430901e5 button');\n",
              "      quickchartButtonEl.style.display =\n",
              "        google.colab.kernel.accessAllowed ? 'block' : 'none';\n",
              "    })();\n",
              "  </script>\n",
              "</div>\n",
              "    </div>\n",
              "  </div>\n"
            ]
          },
          "metadata": {},
          "execution_count": 283
        }
      ]
    },
    {
      "cell_type": "markdown",
      "source": [
        "Now we can use some basic pandas features to gain insights into the results"
      ],
      "metadata": {
        "id": "cXOYzBGy6Zpt"
      }
    },
    {
      "cell_type": "code",
      "source": [
        "results_df.winner.plot.hist()"
      ],
      "metadata": {
        "id": "YSNql8cbs32d",
        "colab": {
          "base_uri": "https://localhost:8080/",
          "height": 447
        },
        "outputId": "69ee7792-6ff1-405e-cda1-9298bd5ebe87"
      },
      "execution_count": 284,
      "outputs": [
        {
          "output_type": "execute_result",
          "data": {
            "text/plain": [
              "<Axes: ylabel='Frequency'>"
            ]
          },
          "metadata": {},
          "execution_count": 284
        },
        {
          "output_type": "display_data",
          "data": {
            "text/plain": [
              "<Figure size 640x480 with 1 Axes>"
            ],
            "image/png": "[encoded data removed]"
          },
          "metadata": {}
        }
      ]
    },
    {
      "cell_type": "code",
      "source": [
        "results_df[results_df.length<3].gain.mean()"
      ],
      "metadata": {
        "id": "M_Me4xU6zizs",
        "colab": {
          "base_uri": "https://localhost:8080/"
        },
        "outputId": "3fdc10bd-6c10-4bee-9725-147b980e3136"
      },
      "execution_count": 285,
      "outputs": [
        {
          "output_type": "execute_result",
          "data": {
            "text/plain": [
              "49.3841946969697"
            ]
          },
          "metadata": {},
          "execution_count": 285
        }
      ]
    },
    {
      "cell_type": "code",
      "source": [
        "len(results_df[results_df.gain>0])/len(results_df[results_df.gain<1])"
      ],
      "metadata": {
        "colab": {
          "base_uri": "https://localhost:8080/"
        },
        "id": "KwUqdz2PGIYw",
        "outputId": "1e21ac63-0146-4f7c-e4d3-1b19503d6688"
      },
      "execution_count": 286,
      "outputs": [
        {
          "output_type": "execute_result",
          "data": {
            "text/plain": [
              "1.1059602649006623"
            ]
          },
          "metadata": {},
          "execution_count": 286
        }
      ]
    },
    {
      "cell_type": "code",
      "source": [
        "results_df[results_df.length<3].gain.hist()"
      ],
      "metadata": {
        "colab": {
          "base_uri": "https://localhost:8080/",
          "height": 447
        },
        "id": "MfuSClChT4aY",
        "outputId": "2ef9c311-bf33-4a89-abf3-23b9100d0f78"
      },
      "execution_count": 287,
      "outputs": [
        {
          "output_type": "execute_result",
          "data": {
            "text/plain": [
              "<Axes: >"
            ]
          },
          "metadata": {},
          "execution_count": 287
        },
        {
          "output_type": "display_data",
          "data": {
            "text/plain": [
              "<Figure size 640x480 with 1 Axes>"
            ],
            "image/png": "[encoded data removed]"
          },
          "metadata": {}
        }
      ]
    },
    {
      "cell_type": "code",
      "source": [
        "#@title Let's print some results\n",
        "from IPython.display import HTML, display\n",
        "import time\n",
        "\n",
        "def progress(value, max=100):\n",
        "    return HTML(\"\"\"\n",
        "        <progress\n",
        "            value='{value}'\n",
        "            max='{max}',\n",
        "            style='width: 100%'\n",
        "        >\n",
        "            {value}\n",
        "        </progress>\n",
        "    \"\"\".format(value=value, max=max))\n",
        "\n",
        "out = display(progress(0, 100), display_id=True)\n",
        "for ii in range(101):\n",
        "    time.sleep(0.02)\n",
        "    out.update(progress(ii, 100))"
      ],
      "metadata": {
        "colab": {
          "base_uri": "https://localhost:8080/",
          "height": 34
        },
        "id": "N956Gnz98Wy6",
        "outputId": "218a5089-7f53-4e78-cb1d-2216b62cd249"
      },
      "execution_count": null,
      "outputs": [
        {
          "output_type": "display_data",
          "data": {
            "text/plain": [
              "<IPython.core.display.HTML object>"
            ],
            "text/html": [
              "\n",
              "        <progress\n",
              "            value='100'\n",
              "            max='100',\n",
              "            style='width: 100%'\n",
              "        >\n",
              "            100\n",
              "        </progress>\n",
              "    "
            ]
          },
          "metadata": {}
        }
      ]
    }
  ]
}